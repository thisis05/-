{
  "nbformat": 4,
  "nbformat_minor": 0,
  "metadata": {
    "colab": {
      "provenance": [],
      "authorship_tag": "ABX9TyMEbpbvTLjR5xPcZhavpiQd"
    },
    "kernelspec": {
      "name": "python3",
      "display_name": "Python 3"
    },
    "language_info": {
      "name": "python"
    }
  },
  "cells": [
    {
      "cell_type": "code",
      "source": [
        "#1181 단어 정렬\n",
        "\n",
        "# 중복을 허용하지 않으니 set 사용\n",
        "num = int(input())\n",
        "word = set()\n",
        "for i in range(0,num):\n",
        "  word.add(str(input()))\n",
        "\n",
        "word_list=list(word)\n",
        "\n",
        "# sort( key = lamda x ) 사용\n",
        "\n",
        "word_list.sort()\n",
        "word_list.sort(key = lambda x : len(x))\n",
        "for word in word_list:\n",
        "  print(word)"
      ],
      "metadata": {
        "colab": {
          "base_uri": "https://localhost:8080/"
        },
        "id": "Z2Qmn8YmFKIy",
        "outputId": "5cc60a3f-072e-4105-d205-7cbdabc539fc"
      },
      "execution_count": null,
      "outputs": [
        {
          "output_type": "stream",
          "name": "stdout",
          "text": [
            "13\n",
            "but\n",
            "i\n",
            "wont\n",
            "hesitate\n",
            "no\n",
            "more\n",
            "no\n",
            "more\n",
            "it\n",
            "cannot\n",
            "wait\n",
            "im\n",
            "yours\n",
            "i\n",
            "im\n",
            "it\n",
            "no\n",
            "but\n",
            "more\n",
            "wait\n",
            "wont\n",
            "yours\n",
            "cannot\n",
            "hesitate\n"
          ]
        }
      ]
    },
    {
      "cell_type": "code",
      "source": [],
      "metadata": {
        "id": "c-XVSblmSKw9"
      },
      "execution_count": null,
      "outputs": []
    }
  ]
}