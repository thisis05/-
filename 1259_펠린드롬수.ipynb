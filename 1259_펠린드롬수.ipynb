{
  "nbformat": 4,
  "nbformat_minor": 0,
  "metadata": {
    "colab": {
      "provenance": [],
      "authorship_tag": "ABX9TyPeFGmXtPtuHMKSkoOX2VgH"
    },
    "kernelspec": {
      "name": "python3",
      "display_name": "Python 3"
    },
    "language_info": {
      "name": "python"
    }
  },
  "cells": [
    {
      "cell_type": "code",
      "source": [
        "# 1259. 펠린드롬수\n",
        "\n",
        "num_list = []\n",
        "while True:\n",
        "  num = str(input())\n",
        "  if num==\"0\":\n",
        "    break\n",
        "  num_list.append(num)\n",
        "\n",
        "def isPelin(number):\n",
        "  if len(number) <= 1:\n",
        "    return \"yes\"\n",
        "  elif number[0] != number[len(number)-1]:\n",
        "    return \"no\"\n",
        "  else:\n",
        "    new_number = number[1:len(number)-1]\n",
        "    return isPelin(new_number)\n",
        "\n",
        "for i in num_list:\n",
        "  print(isPelin(i))"
      ],
      "metadata": {
        "colab": {
          "base_uri": "https://localhost:8080/"
        },
        "id": "f43t5hIlENbP",
        "outputId": "93c3b2f9-ba7c-4b9f-9246-f2edce6a2f19"
      },
      "execution_count": null,
      "outputs": [
        {
          "output_type": "stream",
          "name": "stdout",
          "text": [
            "121\n",
            "1231\n",
            "12421\n",
            "0\n",
            "yes\n",
            "no\n",
            "yes\n"
          ]
        }
      ]
    }
  ]
}